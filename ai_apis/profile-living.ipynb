{
 "cells": [
  {
   "cell_type": "code",
   "execution_count": 3,
   "id": "b6d55f4d-a197-409f-8aa9-f85429662dee",
   "metadata": {},
   "outputs": [],
   "source": [
    "from openai import OpenAI\n",
    "from dotenv import load_dotenv\n",
    "import json\n",
    "import os"
   ]
  },
  {
   "cell_type": "code",
   "execution_count": 4,
   "id": "244e4325",
   "metadata": {},
   "outputs": [
    {
     "data": {
      "text/plain": [
       "True"
      ]
     },
     "execution_count": 4,
     "metadata": {},
     "output_type": "execute_result"
    }
   ],
   "source": [
    "load_dotenv(override=True)"
   ]
  },
  {
   "cell_type": "code",
   "execution_count": 6,
   "id": "867c77ea",
   "metadata": {},
   "outputs": [
    {
     "name": "stdout",
     "output_type": "stream",
     "text": [
      "OPENAI_API_KEY is present\n"
     ]
    }
   ],
   "source": [
    "openai_api_key = os.getenv(\"OPENAI_API_KEY\")\n",
    "\n",
    "if openai_api_key and openai_api_key[:8] == \"sk-proj-\":\n",
    "    print(\"OPENAI_API_KEY is present\")\n",
    "else:\n",
    "    print(\"OPENAI_API_KEY is not present\")"
   ]
  },
  {
   "cell_type": "code",
   "execution_count": 16,
   "id": "0b0e30a7-de7c-465a-880d-425f6324e033",
   "metadata": {},
   "outputs": [],
   "source": [
    "openai = OpenAI()"
   ]
  },
  {
   "cell_type": "code",
   "execution_count": 63,
   "id": "b780ccd3",
   "metadata": {},
   "outputs": [],
   "source": [
    "def get_character_profile_information(background, notable_works, occupation, first_appearance, era):\n",
    "    return {\n",
    "        \"background\": background,\n",
    "        \"notable_works\": notable_works,\n",
    "        \"occupation\": occupation,\n",
    "        \"first_appearance\": first_appearance,\n",
    "        \"era\": era\n",
    "    }"
   ]
  },
  {
   "cell_type": "code",
   "execution_count": 88,
   "id": "4efb80db",
   "metadata": {},
   "outputs": [],
   "source": [
    "get_character_profile_information_json = {\n",
    "    \"name\": \"get_character_profile_information\",\n",
    "    \"description\": \"Get the character's information like the background, notable works, occupation, first appearance, and era\",\n",
    "    \"parameters\": {\n",
    "        \"type\": \"object\",\n",
    "        \"properties\": {\n",
    "            \"background\": {\n",
    "                \"type\": \"string\",\n",
    "                \"description\": \"Background or the summary of information the character, everything should be factual, and not exceeding 1000 characters.\"\n",
    "            },\n",
    "            \"notable_works\": {\n",
    "                \"type\": \"string\",\n",
    "                \"description\": \"A concise summary of the character’s most notable achievements, contributions, or works that made them significant in history or fiction.\",\n",
    "                \"example\": \"Theory of Special Relativity, Theory of General Relativity, Photoelectric Effect, Mass-Energy Equivalence (E=mc²)\"\n",
    "            },\n",
    "            \"occupation\": {\n",
    "                \"type\": \"string\",\n",
    "                \"description\": \"The primary profession, role, or title of the character.\",\n",
    "                \"example\": \"Theoretical Physicist\"\n",
    "            },\n",
    "            \"first_appearance\": {\n",
    "                \"type\": \"string\",\n",
    "                \"description\": \"The date, year, or title of the work/event where the character first appeared or was introduced. This can be a publication, film, historical record, or other medium.\",\n",
    "                \"example\": \"Action Comics #1 (1938)\"\n",
    "            },\n",
    "            \"era\": {\n",
    "                \"type\": \"string\",\n",
    "                \"description\": \"The historical or fictional time period in which the character lived or was most active, including the range of years. Strictly follow the format in the example.\",\n",
    "                \"example\": \"19th Century (1879–1955)\"\n",
    "            }\n",
    "        },\n",
    "        \"required\": [\"background\", \"notable_works\", \"occupation\", \"first_appearance\", \"era\"],\n",
    "        \"additionalProperties\": False\n",
    "    }\n",
    "}"
   ]
  },
  {
   "cell_type": "code",
   "execution_count": 89,
   "id": "7850abde",
   "metadata": {},
   "outputs": [],
   "source": [
    "tools = [{\"type\": \"function\", \"function\": get_character_profile_information_json}]"
   ]
  },
  {
   "cell_type": "code",
   "execution_count": 90,
   "id": "62878e55",
   "metadata": {},
   "outputs": [],
   "source": [
    "model = \"gpt-4o-mini\""
   ]
  },
  {
   "cell_type": "code",
   "execution_count": 91,
   "id": "ff01f56b",
   "metadata": {},
   "outputs": [],
   "source": [
    "character_name = \"Albert Einstein\""
   ]
  },
  {
   "cell_type": "code",
   "execution_count": 92,
   "id": "c362febd",
   "metadata": {},
   "outputs": [],
   "source": [
    "messages = [\n",
    "    {\"role\": \"system\", \"content\": \"You are a narrator who knows a lot about people and providing character's information as if you really know them.\"},\n",
    "    {\"role\": \"user\", \"content\": f\"Give me a factual background information of {character_name}. If you don't know this character, just provide N/A and don't mess things up.\"}\n",
    "]"
   ]
  },
  {
   "cell_type": "code",
   "execution_count": 93,
   "id": "6e81d938",
   "metadata": {},
   "outputs": [
    {
     "name": "stdout",
     "output_type": "stream",
     "text": [
      "ChatCompletionMessage(content=None, refusal=None, role='assistant', annotations=[], audio=None, function_call=None, tool_calls=[ChatCompletionMessageFunctionToolCall(id='call_1OmL36IxAvnOtqZb44H68tfR', function=Function(arguments='{\"background\":\"Albert Einstein was a theoretical physicist born on March 14, 1879, in Ulm, Germany, and died on April 18, 1955, in Princeton, New Jersey, USA. Renowned for developing the theory of relativity, his work revolutionized the understanding of time, space, and energy. His famous equation E=mc² expressed the equivalence of mass and energy. Einstein\\'s early education was marked by a struggle against the rigidities of the German educational system. He later moved to Switzerland, where he obtained citizenship and published several groundbreaking papers in 1905, including those on the photoelectric effect and Brownian motion, which later earned him the Nobel Prize in Physics in 1921. Einstein was also a prominent advocate for civil rights and a passionate opponent of nationalism.\",\"notable_works\":\"Theory of Relativity, Photoelectric Effect (Nobel Prize), Brownian Motion, Mass-energy equivalence (E=mc²)\",\"occupation\":\"Theoretical Physicist\",\"first_appearance\":\"1905 (in scientific publication)\",\"era\":\"20th century\"}', name='get_character_profile_information'), type='function')])\n"
     ]
    }
   ],
   "source": [
    "response = openai.chat.completions.create(\n",
    "    model=\"gpt-4o-mini\",\n",
    "    messages=messages,\n",
    "    tools=tools\n",
    ")\n",
    "\n",
    "message = response.choices[0].message\n",
    "\n",
    "print(message)\n"
   ]
  },
  {
   "cell_type": "code",
   "execution_count": 94,
   "id": "4d375f98",
   "metadata": {},
   "outputs": [],
   "source": [
    "def handle_tool_calls(tool_calls):\n",
    "    results = {}\n",
    "    for tool_call in tool_calls:\n",
    "        tool_name = tool_call.function.name\n",
    "        arguments = json.loads(tool_call.function.arguments)\n",
    "\n",
    "        tool = globals().get(tool_name) if tool_name else { \"error\": \"tool name is not found\" }\n",
    "        result = tool(**arguments)\n",
    "        results = result\n",
    "    return results"
   ]
  },
  {
   "cell_type": "code",
   "execution_count": 95,
   "id": "fc20df9f",
   "metadata": {},
   "outputs": [
    {
     "data": {
      "text/plain": [
       "{'background': \"Albert Einstein was a theoretical physicist born on March 14, 1879, in Ulm, Germany, and died on April 18, 1955, in Princeton, New Jersey, USA. Renowned for developing the theory of relativity, his work revolutionized the understanding of time, space, and energy. His famous equation E=mc² expressed the equivalence of mass and energy. Einstein's early education was marked by a struggle against the rigidities of the German educational system. He later moved to Switzerland, where he obtained citizenship and published several groundbreaking papers in 1905, including those on the photoelectric effect and Brownian motion, which later earned him the Nobel Prize in Physics in 1921. Einstein was also a prominent advocate for civil rights and a passionate opponent of nationalism.\",\n",
       " 'notable_works': 'Theory of Relativity, Photoelectric Effect (Nobel Prize), Brownian Motion, Mass-energy equivalence (E=mc²)',\n",
       " 'occupation': 'Theoretical Physicist',\n",
       " 'first_appearance': '1905 (in scientific publication)',\n",
       " 'era': '20th century'}"
      ]
     },
     "execution_count": 95,
     "metadata": {},
     "output_type": "execute_result"
    }
   ],
   "source": [
    "handle_tool_calls(message.tool_calls)"
   ]
  },
  {
   "cell_type": "code",
   "execution_count": null,
   "id": "93817bbe",
   "metadata": {},
   "outputs": [],
   "source": []
  }
 ],
 "metadata": {
  "kernelspec": {
   "display_name": "profile-living",
   "language": "python",
   "name": "profile-living"
  },
  "language_info": {
   "codemirror_mode": {
    "name": "ipython",
    "version": 3
   },
   "file_extension": ".py",
   "mimetype": "text/x-python",
   "name": "python",
   "nbconvert_exporter": "python",
   "pygments_lexer": "ipython3",
   "version": "3.12.7"
  }
 },
 "nbformat": 4,
 "nbformat_minor": 5
}
