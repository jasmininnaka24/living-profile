{
 "cells": [
  {
   "cell_type": "code",
   "execution_count": 2,
   "id": "b6d55f4d-a197-409f-8aa9-f85429662dee",
   "metadata": {},
   "outputs": [],
   "source": [
    "from openai import OpenAI\n",
    "from dotenv import load_dotenv\n",
    "import json\n",
    "import os"
   ]
  },
  {
   "cell_type": "code",
   "execution_count": 3,
   "id": "244e4325",
   "metadata": {},
   "outputs": [
    {
     "data": {
      "text/plain": [
       "True"
      ]
     },
     "execution_count": 3,
     "metadata": {},
     "output_type": "execute_result"
    }
   ],
   "source": [
    "load_dotenv(override=True)"
   ]
  },
  {
   "cell_type": "code",
   "execution_count": 4,
   "id": "867c77ea",
   "metadata": {},
   "outputs": [
    {
     "name": "stdout",
     "output_type": "stream",
     "text": [
      "OPENAI_API_KEY is present\n"
     ]
    }
   ],
   "source": [
    "openai_api_key = os.getenv(\"OPENAI_API_KEY\")\n",
    "\n",
    "if openai_api_key and openai_api_key[:8] == \"sk-proj-\":\n",
    "    print(\"OPENAI_API_KEY is present\")\n",
    "else:\n",
    "    print(\"OPENAI_API_KEY is not present\")"
   ]
  },
  {
   "cell_type": "code",
   "execution_count": 5,
   "id": "0b0e30a7-de7c-465a-880d-425f6324e033",
   "metadata": {},
   "outputs": [],
   "source": [
    "openai = OpenAI()"
   ]
  },
  {
   "cell_type": "code",
   "execution_count": 6,
   "id": "b780ccd3",
   "metadata": {},
   "outputs": [],
   "source": [
    "def get_character_profile_information(background, notable_works, occupation, first_appearance, era):\n",
    "    return {\n",
    "        \"background\": background,\n",
    "        \"notable_works\": notable_works,\n",
    "        \"occupation\": occupation,\n",
    "        \"first_appearance\": first_appearance,\n",
    "        \"era\": era\n",
    "    }"
   ]
  },
  {
   "cell_type": "code",
   "execution_count": 7,
   "id": "4efb80db",
   "metadata": {},
   "outputs": [],
   "source": [
    "get_character_profile_information_json = {\n",
    "    \"name\": \"get_character_profile_information\",\n",
    "    \"description\": \"Get the character's information like the background, notable works, occupation, first appearance, and era\",\n",
    "    \"parameters\": {\n",
    "        \"type\": \"object\",\n",
    "        \"properties\": {\n",
    "            \"background\": {\n",
    "                \"type\": \"string\",\n",
    "                \"description\": \"Background or the summary of information the character, everything should be factual, and not exceeding 1000 characters.\"\n",
    "            },\n",
    "            \"notable_works\": {\n",
    "                \"type\": \"string\",\n",
    "                \"description\": \"A concise summary of the character’s most notable achievements, contributions, or works that made them significant in history or fiction.\",\n",
    "                \"example\": \"Theory of Special Relativity, Theory of General Relativity, Photoelectric Effect, Mass-Energy Equivalence (E=mc²)\"\n",
    "            },\n",
    "            \"occupation\": {\n",
    "                \"type\": \"string\",\n",
    "                \"description\": \"The primary profession, role, or title of the character.\",\n",
    "                \"example\": \"Theoretical Physicist\"\n",
    "            },\n",
    "            \"first_appearance\": {\n",
    "                \"type\": \"string\",\n",
    "                \"description\": \"The date, year, or title of the work/event where the character first appeared or was introduced. This can be a publication, film, historical record, or other medium.\",\n",
    "                \"example\": \"Action Comics #1 (1938)\"\n",
    "            },\n",
    "            \"era\": {\n",
    "                \"type\": \"string\",\n",
    "                \"description\": \"The historical or fictional time period in which the character lived or was most active, including the range of years. Strictly follow the format in the example.\",\n",
    "                \"example\": \"19th Century (1879–1955)\"\n",
    "            }\n",
    "        },\n",
    "        \"required\": [\"background\", \"notable_works\", \"occupation\", \"first_appearance\", \"era\"],\n",
    "        \"additionalProperties\": False\n",
    "    }\n",
    "}"
   ]
  },
  {
   "cell_type": "code",
   "execution_count": 8,
   "id": "7850abde",
   "metadata": {},
   "outputs": [],
   "source": [
    "tools = [{\"type\": \"function\", \"function\": get_character_profile_information_json}]"
   ]
  },
  {
   "cell_type": "code",
   "execution_count": 9,
   "id": "62878e55",
   "metadata": {},
   "outputs": [],
   "source": [
    "model = \"gpt-4o-mini\""
   ]
  },
  {
   "cell_type": "code",
   "execution_count": 10,
   "id": "ff01f56b",
   "metadata": {},
   "outputs": [],
   "source": [
    "character_name = \"Albert Einstein\""
   ]
  },
  {
   "cell_type": "code",
   "execution_count": 11,
   "id": "c362febd",
   "metadata": {},
   "outputs": [],
   "source": [
    "messages = [\n",
    "    {\"role\": \"system\", \"content\": \"You are a narrator who knows a lot about people and providing character's information as if you really know them.\"},\n",
    "    {\"role\": \"user\", \"content\": f\"Give me a factual background information of {character_name}. If you don't know this character, just provide N/A and don't mess things up.\"}\n",
    "]"
   ]
  },
  {
   "cell_type": "code",
   "execution_count": 12,
   "id": "6e81d938",
   "metadata": {},
   "outputs": [
    {
     "name": "stdout",
     "output_type": "stream",
     "text": [
      "ChatCompletionMessage(content=None, refusal=None, role='assistant', annotations=[], audio=None, function_call=None, tool_calls=[ChatCompletionMessageFunctionToolCall(id='call_yMG6a10OmKITB8LvMU59PrG1', function=Function(arguments='{\"background\":\"Albert Einstein was a theoretical physicist born on March 14, 1879, in Ulm, Germany. He is best known for developing the theory of relativity, which revolutionized our understanding of space, time, and gravity. Einstein\\'s work laid the foundation for modern physics and introduced concepts such as mass-energy equivalence, encapsulated in the famous equation E=mc². During his lifetime, he made significant contributions to quantum theory, statistical mechanics, and cosmology.\",\"notable_works\":\"His most notable works include the theory of relativity (Special Relativity in 1905, General Relativity in 1915) and the photoelectric effect, for which he received the Nobel Prize in Physics in 1921. His equation E=mc² is one of the most well-known equations in physics, and he published over 300 scientific papers.\",\"occupation\":\"Theoretical physicist\",\"first_appearance\":\"1905, with the publication of his paper on Special Relativity\",\"era\":\"Late 19th century to mid 20th century (1879-1955)\"}', name='get_character_profile_information'), type='function')])\n"
     ]
    }
   ],
   "source": [
    "response = openai.chat.completions.create(\n",
    "    model=\"gpt-4o-mini\",\n",
    "    messages=messages,\n",
    "    tools=tools\n",
    ")\n",
    "\n",
    "message = response.choices[0].message\n",
    "\n",
    "print(message)\n"
   ]
  },
  {
   "cell_type": "code",
   "execution_count": 13,
   "id": "4d375f98",
   "metadata": {},
   "outputs": [],
   "source": [
    "def handle_tool_calls(tool_calls):\n",
    "    results = {}\n",
    "    for tool_call in tool_calls:\n",
    "        tool_name = tool_call.function.name\n",
    "        arguments = json.loads(tool_call.function.arguments)\n",
    "\n",
    "        tool = globals().get(tool_name) if tool_name else { \"error\": \"tool name is not found\" }\n",
    "        result = tool(**arguments)\n",
    "        results = result\n",
    "    return results"
   ]
  },
  {
   "cell_type": "code",
   "execution_count": 16,
   "id": "fc20df9f",
   "metadata": {},
   "outputs": [],
   "source": [
    "character_information = handle_tool_calls(message.tool_calls)"
   ]
  },
  {
   "cell_type": "code",
   "execution_count": null,
   "id": "a15e08bd",
   "metadata": {},
   "outputs": [],
   "source": [
    "character_system_message = (\n",
    "    f\"You are {character_name}. \"\n",
    "    f\"Stay strictly in character, matching {character_name}'s identity, tone, knowledge, and personality. \"\n",
    "    f\"Here is the initial information about {character_name}: {character_information}. \"\n",
    "    f\"If the user greets or makes a casual remark, respond naturally as {character_name} without saying 'I don't know'. \"\n",
    "    f\"If the user asks about something you truly have no information on, briefly say 'I don't know' \"\n",
    "    f\"and optionally suggest a related topic you can discuss. \"\n",
    "    f\"Be concise: at most 2–3 sentences unless the user explicitly asks for more detail.\"\n",
    ")\n",
    "\n",
    "narrator_system_message = (\n",
    "    f\"You are a factual narrator providing information about {character_name}. \"\n",
    "    f\"Here is the initial information: {character_information}. \"\n",
    "    f\"Answer accurately based on this information. \"\n",
    "    f\"If the user greets or asks something general, reply politely and share a short fact or summary about {character_name}. \"\n",
    "    f\"Only say 'I don't know' for specific facts that are not in the provided information. \"\n",
    "    f\"Be concise: at most 2–3 sentences unless more detail is explicitly requested.\"\n",
    ")"
   ]
  },
  {
   "cell_type": "code",
   "execution_count": 19,
   "id": "93817bbe",
   "metadata": {},
   "outputs": [],
   "source": [
    "def chat(history, user_message, role):\n",
    "    message = [{\"role\": \"system\", \"content\": character_system_message if role == character_name else narrator_system_message}] + history + [{ \"role\": \"user\", \"content\": user_message }]\n",
    "\n",
    "    response = openai.chat.completions.create(\n",
    "        model=model,\n",
    "        messages=message\n",
    "    )\n",
    "\n",
    "    print(response.choices[0].message.content)"
   ]
  },
  {
   "cell_type": "code",
   "execution_count": 21,
   "id": "5e96ad92",
   "metadata": {},
   "outputs": [
    {
     "name": "stdout",
     "output_type": "stream",
     "text": [
      "Hello! It is a pleasure to engage with you. How may I assist you on this fine day?\n"
     ]
    }
   ],
   "source": [
    "chat([], \"Hi there\", \"Albert Einstein\")"
   ]
  },
  {
   "cell_type": "code",
   "execution_count": null,
   "id": "392f5e54",
   "metadata": {},
   "outputs": [],
   "source": []
  }
 ],
 "metadata": {
  "kernelspec": {
   "display_name": "profile-living",
   "language": "python",
   "name": "profile-living"
  },
  "language_info": {
   "codemirror_mode": {
    "name": "ipython",
    "version": 3
   },
   "file_extension": ".py",
   "mimetype": "text/x-python",
   "name": "python",
   "nbconvert_exporter": "python",
   "pygments_lexer": "ipython3",
   "version": "3.13.6"
  }
 },
 "nbformat": 4,
 "nbformat_minor": 5
}
